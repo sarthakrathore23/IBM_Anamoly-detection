{
  "nbformat": 4,
  "nbformat_minor": 0,
  "metadata": {
    "colab": {
      "provenance": []
    },
    "kernelspec": {
      "name": "python3",
      "display_name": "Python 3"
    },
    "language_info": {
      "name": "python"
    }
  },
  "cells": [
    {
      "cell_type": "code",
      "source": [
        "import numpy as np\n",
        "import pandas as pd\n",
        "from sklearn.model_selection import train_test_split\n",
        "from sklearn.preprocessing import StandardScaler\n",
        "from keras.models import Sequential\n",
        "from keras.layers import Dense, LSTM\n",
        "from keras.callbacks import EarlyStopping\n",
        "\n",
        "data = pd.read_csv('/content/sensor.csv')\n",
        "\n",
        "sensor_values = data['sensor_10'].values\n",
        "\n",
        "scaler = StandardScaler()\n",
        "normalized_values = scaler.fit_transform(sensor_values.reshape(-1, 1))\n",
        "\n",
        "sequence_length = 10  # Adjust this based on your data characteristics\n",
        "sequences = []\n",
        "for i in range(len(normalized_values) - sequence_length + 1):\n",
        "    sequences.append(normalized_values[i:i+sequence_length])\n",
        "sequences = np.array(sequences)\n",
        "\n",
        "train_size = int(0.8 * len(sequences))\n",
        "train_data = sequences[:train_size]\n",
        "test_data = sequences[train_size:]\n",
        "\n",
        "model = Sequential()\n",
        "model.add(LSTM(units=64, input_shape=(sequence_length, 1), return_sequences=True))\n",
        "model.add(LSTM(units=64, return_sequences=False))\n",
        "model.add(Dense(units=1))\n",
        "model.compile(optimizer='adam', loss='mean_squared_error')\n",
        "\n",
        "early_stopping = EarlyStopping(patience=5, restore_best_weights=True)\n",
        "\n",
        "model.fit(train_data, train_data, epochs=5, batch_size=32, callbacks=[early_stopping], verbose=1)\n",
        "\n",
        "test_loss = model.evaluate(test_data, test_data, verbose=0)\n",
        "print(\"Test Loss (MSE):\", test_loss)\n",
        "\n",
        "\n",
        "\n"
      ],
      "metadata": {
        "colab": {
          "base_uri": "https://localhost:8080/"
        },
        "id": "p3jbG3gxjPKj",
        "outputId": "011cc13d-4a1f-44a7-a65b-3bc962227747"
      },
      "execution_count": 15,
      "outputs": [
        {
          "output_type": "stream",
          "name": "stdout",
          "text": [
            "Epoch 1/5\n",
            "5506/5508 [============================>.] - ETA: 0s - loss: nan"
          ]
        },
        {
          "output_type": "stream",
          "name": "stderr",
          "text": [
            "WARNING:tensorflow:Early stopping conditioned on metric `val_loss` which is not available. Available metrics are: loss\n"
          ]
        },
        {
          "output_type": "stream",
          "name": "stdout",
          "text": [
            "\b\b\b\b\b\b\b\b\b\b\b\b\b\b\b\b\b\b\b\b\b\b\b\b\b\b\b\b\b\b\b\b\b\b\b\b\b\b\b\b\b\b\b\b\b\b\b\b\b\b\b\b\b\b\b\b\b\b\b\b\b\b\b\b\r5508/5508 [==============================] - 145s 26ms/step - loss: nan\n",
            "Epoch 2/5\n",
            "5508/5508 [==============================] - ETA: 0s - loss: nan"
          ]
        },
        {
          "output_type": "stream",
          "name": "stderr",
          "text": [
            "WARNING:tensorflow:Early stopping conditioned on metric `val_loss` which is not available. Available metrics are: loss\n"
          ]
        },
        {
          "output_type": "stream",
          "name": "stdout",
          "text": [
            "\b\b\b\b\b\b\b\b\b\b\b\b\b\b\b\b\b\b\b\b\b\b\b\b\b\b\b\b\b\b\b\b\b\b\b\b\b\b\b\b\b\b\b\b\b\b\b\b\b\b\b\b\b\b\b\b\b\b\b\b\b\b\b\b\r5508/5508 [==============================] - 134s 24ms/step - loss: nan\n",
            "Epoch 3/5\n",
            "5504/5508 [============================>.] - ETA: 0s - loss: nan"
          ]
        },
        {
          "output_type": "stream",
          "name": "stderr",
          "text": [
            "WARNING:tensorflow:Early stopping conditioned on metric `val_loss` which is not available. Available metrics are: loss\n"
          ]
        },
        {
          "output_type": "stream",
          "name": "stdout",
          "text": [
            "\b\b\b\b\b\b\b\b\b\b\b\b\b\b\b\b\b\b\b\b\b\b\b\b\b\b\b\b\b\b\b\b\b\b\b\b\b\b\b\b\b\b\b\b\b\b\b\b\b\b\b\b\b\b\b\b\b\b\b\b\b\b\b\b\r5508/5508 [==============================] - 142s 26ms/step - loss: nan\n",
            "Epoch 4/5\n",
            "5508/5508 [==============================] - ETA: 0s - loss: nan"
          ]
        },
        {
          "output_type": "stream",
          "name": "stderr",
          "text": [
            "WARNING:tensorflow:Early stopping conditioned on metric `val_loss` which is not available. Available metrics are: loss\n"
          ]
        },
        {
          "output_type": "stream",
          "name": "stdout",
          "text": [
            "\b\b\b\b\b\b\b\b\b\b\b\b\b\b\b\b\b\b\b\b\b\b\b\b\b\b\b\b\b\b\b\b\b\b\b\b\b\b\b\b\b\b\b\b\b\b\b\b\b\b\b\b\b\b\b\b\b\b\b\b\b\b\b\b\r5508/5508 [==============================] - 139s 25ms/step - loss: nan\n",
            "Epoch 5/5\n",
            "5504/5508 [============================>.] - ETA: 0s - loss: nan"
          ]
        },
        {
          "output_type": "stream",
          "name": "stderr",
          "text": [
            "WARNING:tensorflow:Early stopping conditioned on metric `val_loss` which is not available. Available metrics are: loss\n"
          ]
        },
        {
          "output_type": "stream",
          "name": "stdout",
          "text": [
            "\b\b\b\b\b\b\b\b\b\b\b\b\b\b\b\b\b\b\b\b\b\b\b\b\b\b\b\b\b\b\b\b\b\b\b\b\b\b\b\b\b\b\b\b\b\b\b\b\b\b\b\b\b\b\b\b\b\b\b\b\b\b\b\b\r5508/5508 [==============================] - 134s 24ms/step - loss: nan\n",
            "Test Loss (MSE): nan\n"
          ]
        }
      ]
    },
    {
      "cell_type": "code",
      "source": [
        "predicted_values = model.predict(test_data)\n",
        "mse = np.mean(np.power(test_data[:,9] - predicted_values, 2), axis=1)\n",
        "threshold = np.mean(mse) + np.std(mse)\n",
        "\n",
        "\n",
        "\n",
        "anomalies = np.where(mse > threshold)[0]\n",
        "print(\"Detected Anomalies:\", anomalies)\n",
        "\n",
        "total_anomalies = len(anomalies)\n",
        "total_samples = len(test_data)\n",
        "anomaly_detection_rate = total_anomalies / total_samples * 100\n",
        "print(\"Anomaly Detection Rate:\", anomaly_detection_rate, \"%\")"
      ],
      "metadata": {
        "colab": {
          "base_uri": "https://localhost:8080/"
        },
        "id": "dIh-1o9Ml93p",
        "outputId": "80e85925-c7d5-40c7-fd92-def74e5f8b68"
      },
      "execution_count": 16,
      "outputs": [
        {
          "output_type": "stream",
          "name": "stdout",
          "text": [
            "1377/1377 [==============================] - 9s 6ms/step\n",
            "Detected Anomalies: []\n",
            "Anomaly Detection Rate: 0.0 %\n"
          ]
        }
      ]
    }
  ]
}